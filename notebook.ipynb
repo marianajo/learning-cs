{
 "cells": [
  {
   "cell_type": "code",
   "execution_count": 8,
   "id": "a0896f97",
   "metadata": {},
   "outputs": [],
   "source": [
    "from math import log, ceil"
   ]
  },
  {
   "cell_type": "markdown",
   "id": "b10eccc2",
   "metadata": {},
   "source": [
    "# Pesquisa binária\n",
    "\n",
    "Esta implementação de Pesquisa Binária segue o livro *Entendendo Algoritmos*, de Aditya Y. Bhargava."
   ]
  },
  {
   "cell_type": "code",
   "execution_count": 14,
   "id": "c69afa71",
   "metadata": {},
   "outputs": [
    {
     "data": {
      "text/plain": [
       "2"
      ]
     },
     "execution_count": 14,
     "metadata": {},
     "output_type": "execute_result"
    }
   ],
   "source": [
    "from algorithms.binary_search import binary_search\n",
    "\n",
    "binary_search(l=[1, 3, 5, 7, 9], item=5)"
   ]
  },
  {
   "cell_type": "markdown",
   "id": "3fbb436a",
   "metadata": {},
   "source": [
    "Uma coisa notável da Pesquisa Binária é que ela elimina o número de elementos a serem pesquisados pela metada a cada iteração.\n",
    "\n",
    "Em geral, dada uma lista de $n$ elementos, a pesquisa binária precisa de $\\log_2 n$ passos para encontrar o valor correto, enquanto que uma busca simples precisa de $n$ passos. Por exemplo, dada uma lista de $240k$ elementos, seriam necessários $240k$ passos no pior caso para encontrar o elemento."
   ]
  },
  {
   "cell_type": "code",
   "execution_count": 15,
   "id": "ef54ca4d",
   "metadata": {},
   "outputs": [
    {
     "data": {
      "text/plain": [
       "18"
      ]
     },
     "execution_count": 15,
     "metadata": {},
     "output_type": "execute_result"
    }
   ],
   "source": [
    "ceil(log(240000, 2))"
   ]
  },
  {
   "cell_type": "markdown",
   "id": "b7990520",
   "metadata": {},
   "source": [
    "Ou seja, o tempo de execução da pesquisa binária é de $\\mathcal{O}(\\log n)$.\n",
    "\n",
    "## Exercícios\n",
    "\n",
    "**1.1** Suponha que você tenha uma lista com 128 nome e esteja fazendo uma pesquisa binária. Qual seria o número máximo de etapas que você levaria para encontrar o nome desejado?"
   ]
  },
  {
   "cell_type": "code",
   "execution_count": 22,
   "id": "9d3df3f1",
   "metadata": {},
   "outputs": [
    {
     "data": {
      "text/plain": [
       "7"
      ]
     },
     "execution_count": 22,
     "metadata": {},
     "output_type": "execute_result"
    }
   ],
   "source": [
    "ceil(log(128, 2))"
   ]
  },
  {
   "cell_type": "markdown",
   "id": "7f72b888",
   "metadata": {},
   "source": [
    "**1.2** Suponha que você duplique o tamanho da lista. Qual seria o número máximo de etapas agora?"
   ]
  },
  {
   "cell_type": "code",
   "execution_count": 20,
   "id": "10bd527d",
   "metadata": {},
   "outputs": [
    {
     "data": {
      "text/plain": [
       "8"
      ]
     },
     "execution_count": 20,
     "metadata": {},
     "output_type": "execute_result"
    }
   ],
   "source": [
    "ceil(log(128 * 2, 2))"
   ]
  },
  {
   "cell_type": "markdown",
   "id": "586ba96d",
   "metadata": {},
   "source": [
    "**1.3** Você tem um nome e deseja encontrar o número de telefone para esse nome em uma agenda telefônica.\n",
    "\n",
    "*R.:* Usando pesquisa binária, $\\mathcal{O}(\\log(n))$\n",
    "\n",
    "**1.4** Você tem um número de telefone e deseja encontrar o dono dele em uma agenda telefônica.\n",
    "\n",
    "*R.:* $\\mathcal{O}(n)$\n",
    "\n",
    "**1.5** Você quer ler o número de cada pessoa da agenda telefônica.\n",
    "\n",
    "*R.:* $\\mathcal{O}(n)$\n",
    "\n",
    "**1.6** Você quer ler os números apenas dos nomes que começam com *A*.\n",
    "\n",
    "*R.:* $\\mathcal{O}(n)$"
   ]
  },
  {
   "cell_type": "markdown",
   "id": "2e84dd7a",
   "metadata": {},
   "source": [
    "---"
   ]
  },
  {
   "cell_type": "code",
   "execution_count": null,
   "id": "d3eeb147",
   "metadata": {},
   "outputs": [],
   "source": []
  }
 ],
 "metadata": {
  "kernelspec": {
   "display_name": "Python 3",
   "language": "python",
   "name": "python3"
  },
  "language_info": {
   "codemirror_mode": {
    "name": "ipython",
    "version": 3
   },
   "file_extension": ".py",
   "mimetype": "text/x-python",
   "name": "python",
   "nbconvert_exporter": "python",
   "pygments_lexer": "ipython3",
   "version": "3.9.5"
  }
 },
 "nbformat": 4,
 "nbformat_minor": 5
}
